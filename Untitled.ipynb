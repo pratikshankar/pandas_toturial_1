{
 "cells": [
  {
   "cell_type": "code",
   "execution_count": 10,
   "id": "ea1a76c6",
   "metadata": {},
   "outputs": [
    {
     "name": "stdout",
     "output_type": "stream",
     "text": [
      "[4, 3, 4, 3, 4, 3]\n"
     ]
    }
   ],
   "source": [
    "l=[1,2,3,4,5]\n",
    "l1=[3,4,3,4,3,4]\n",
    "for x in range(len(l1)):\n",
    "    #print(l[x])\n",
    "    if l1[x]==3:\n",
    "        l1[x]=4\n",
    "    elif l1[x]==4:\n",
    "        l1[x]=3\n",
    "print(l1)"
   ]
  },
  {
   "cell_type": "code",
   "execution_count": 16,
   "id": "3395eeb8",
   "metadata": {},
   "outputs": [
    {
     "name": "stdout",
     "output_type": "stream",
     "text": [
      "agdhsgbhsja\n"
     ]
    }
   ],
   "source": [
    "l='Pgdhsgrhsjp'\n",
    "lr=''\n",
    "for x in l.lower():\n",
    "    if x == 'p':\n",
    "        lr=lr+'a'\n",
    "    elif x == 'r':\n",
    "        lr=lr+'b'\n",
    "    else:\n",
    "        lr=lr+x\n",
    "print(lr)\n",
    "    "
   ]
  },
  {
   "cell_type": "markdown",
   "id": "daf3bfa0",
   "metadata": {},
   "source": []
  },
  {
   "cell_type": "code",
   "execution_count": null,
   "id": "6dcf99a8",
   "metadata": {},
   "outputs": [],
   "source": [
    "day   userid   subscriber(y/n)  Plan    DOB   City\n",
    "1         234     y               hfj   132    d\n",
    "..\n",
    ".\n",
    ".\n",
    ".18      1234    N                 ....................\n",
    "\n"
   ]
  },
  {
   "cell_type": "markdown",
   "id": "dba12ad6",
   "metadata": {},
   "source": [
    "Select count(*) from table \n",
    "\n",
    "\n",
    "find the primary key of a table"
   ]
  }
 ],
 "metadata": {
  "kernelspec": {
   "display_name": "Python 3",
   "language": "python",
   "name": "python3"
  },
  "language_info": {
   "codemirror_mode": {
    "name": "ipython",
    "version": 3
   },
   "file_extension": ".py",
   "mimetype": "text/x-python",
   "name": "python",
   "nbconvert_exporter": "python",
   "pygments_lexer": "ipython3",
   "version": "3.8.8"
  }
 },
 "nbformat": 4,
 "nbformat_minor": 5
}
